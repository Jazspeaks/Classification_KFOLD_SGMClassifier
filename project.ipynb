{
 "cells": [
  {
   "cell_type": "markdown",
   "id": "23093a37",
   "metadata": {
    "raw_mimetype": "text/html"
   },
   "source": [
    "Importing dependencies"
   ]
  },
  {
   "cell_type": "code",
   "execution_count": 1,
   "id": "96029258",
   "metadata": {},
   "outputs": [],
   "source": [
    "import numpy as np\n",
    "import pandas as pd\n",
    "from sklearn.preprocessing import StandardScaler\n",
    "from sklearn.linear_model import SGDClassifier\n",
    "from sklearn.model_selection import train_test_split\n",
    "from sklearn.metrics import accuracy_score\n",
    "from sklearn import svm\n",
    "import matplotlib.pyplot as plt\n",
    "from sklearn.model_selection import KFold\n",
    "import seaborn as sns\n",
    "from sklearn.metrics import f1_score\n",
    "%matplotlib inline\n",
    "from sklearn import tree\n",
    "from sklearn.tree import DecisionTreeRegressor\n"
   ]
  },
  {
   "cell_type": "code",
   "execution_count": 2,
   "id": "20836d12",
   "metadata": {},
   "outputs": [],
   "source": [
    "! pip install fast_ml --quiet"
   ]
  },
  {
   "cell_type": "code",
   "execution_count": 3,
   "id": "2f9e4a02",
   "metadata": {},
   "outputs": [],
   "source": [
    "from fast_ml.model_development import train_valid_test_split"
   ]
  },
  {
   "cell_type": "markdown",
   "id": "43175068",
   "metadata": {},
   "source": [
    "Resding the dataset with pandas"
   ]
  },
  {
   "cell_type": "code",
   "execution_count": 4,
   "id": "bab38ccc",
   "metadata": {},
   "outputs": [],
   "source": [
    "df= pd.read_excel('Project.xlsx')"
   ]
  },
  {
   "cell_type": "code",
   "execution_count": 5,
   "id": "2b410dc8",
   "metadata": {},
   "outputs": [
    {
     "data": {
      "text/html": [
       "<div>\n",
       "<style scoped>\n",
       "    .dataframe tbody tr th:only-of-type {\n",
       "        vertical-align: middle;\n",
       "    }\n",
       "\n",
       "    .dataframe tbody tr th {\n",
       "        vertical-align: top;\n",
       "    }\n",
       "\n",
       "    .dataframe thead th {\n",
       "        text-align: right;\n",
       "    }\n",
       "</style>\n",
       "<table border=\"1\" class=\"dataframe\">\n",
       "  <thead>\n",
       "    <tr style=\"text-align: right;\">\n",
       "      <th></th>\n",
       "      <th>Timestamp</th>\n",
       "      <th>FIT101</th>\n",
       "      <th>LIT101</th>\n",
       "      <th>MV101</th>\n",
       "      <th>P101</th>\n",
       "      <th>P102</th>\n",
       "      <th>AIT201</th>\n",
       "      <th>AIT202</th>\n",
       "      <th>AIT203</th>\n",
       "      <th>FIT201</th>\n",
       "      <th>...</th>\n",
       "      <th>P501</th>\n",
       "      <th>P502</th>\n",
       "      <th>PIT501</th>\n",
       "      <th>PIT502</th>\n",
       "      <th>PIT503</th>\n",
       "      <th>FIT601</th>\n",
       "      <th>P601</th>\n",
       "      <th>P602</th>\n",
       "      <th>P603</th>\n",
       "      <th>Normal/Attack</th>\n",
       "    </tr>\n",
       "  </thead>\n",
       "  <tbody>\n",
       "    <tr>\n",
       "      <th>0</th>\n",
       "      <td>28/12/2015 10:00:00 AM</td>\n",
       "      <td>2.427057</td>\n",
       "      <td>522.8467</td>\n",
       "      <td>2</td>\n",
       "      <td>2</td>\n",
       "      <td>1</td>\n",
       "      <td>262.0161</td>\n",
       "      <td>8.396437</td>\n",
       "      <td>328.6337</td>\n",
       "      <td>2.445391</td>\n",
       "      <td>...</td>\n",
       "      <td>2</td>\n",
       "      <td>1</td>\n",
       "      <td>250.8652</td>\n",
       "      <td>1.649953</td>\n",
       "      <td>189.5988</td>\n",
       "      <td>0.000128</td>\n",
       "      <td>1</td>\n",
       "      <td>1</td>\n",
       "      <td>1</td>\n",
       "      <td>Normal</td>\n",
       "    </tr>\n",
       "    <tr>\n",
       "      <th>1</th>\n",
       "      <td>28/12/2015 10:00:01 AM</td>\n",
       "      <td>2.446274</td>\n",
       "      <td>522.8860</td>\n",
       "      <td>2</td>\n",
       "      <td>2</td>\n",
       "      <td>1</td>\n",
       "      <td>262.0161</td>\n",
       "      <td>8.396437</td>\n",
       "      <td>328.6337</td>\n",
       "      <td>2.445391</td>\n",
       "      <td>...</td>\n",
       "      <td>2</td>\n",
       "      <td>1</td>\n",
       "      <td>250.8652</td>\n",
       "      <td>1.649953</td>\n",
       "      <td>189.6789</td>\n",
       "      <td>0.000128</td>\n",
       "      <td>1</td>\n",
       "      <td>1</td>\n",
       "      <td>1</td>\n",
       "      <td>Normal</td>\n",
       "    </tr>\n",
       "    <tr>\n",
       "      <th>2</th>\n",
       "      <td>28/12/2015 10:00:02 AM</td>\n",
       "      <td>2.489191</td>\n",
       "      <td>522.8467</td>\n",
       "      <td>2</td>\n",
       "      <td>2</td>\n",
       "      <td>1</td>\n",
       "      <td>262.0161</td>\n",
       "      <td>8.394514</td>\n",
       "      <td>328.6337</td>\n",
       "      <td>2.442316</td>\n",
       "      <td>...</td>\n",
       "      <td>2</td>\n",
       "      <td>1</td>\n",
       "      <td>250.8812</td>\n",
       "      <td>1.649953</td>\n",
       "      <td>189.6789</td>\n",
       "      <td>0.000128</td>\n",
       "      <td>1</td>\n",
       "      <td>1</td>\n",
       "      <td>1</td>\n",
       "      <td>Normal</td>\n",
       "    </tr>\n",
       "    <tr>\n",
       "      <th>3</th>\n",
       "      <td>28/12/2015 10:00:03 AM</td>\n",
       "      <td>2.534350</td>\n",
       "      <td>522.9645</td>\n",
       "      <td>2</td>\n",
       "      <td>2</td>\n",
       "      <td>1</td>\n",
       "      <td>262.0161</td>\n",
       "      <td>8.394514</td>\n",
       "      <td>328.6337</td>\n",
       "      <td>2.442316</td>\n",
       "      <td>...</td>\n",
       "      <td>2</td>\n",
       "      <td>1</td>\n",
       "      <td>250.8812</td>\n",
       "      <td>1.649953</td>\n",
       "      <td>189.6148</td>\n",
       "      <td>0.000128</td>\n",
       "      <td>1</td>\n",
       "      <td>1</td>\n",
       "      <td>1</td>\n",
       "      <td>Normal</td>\n",
       "    </tr>\n",
       "    <tr>\n",
       "      <th>4</th>\n",
       "      <td>28/12/2015 10:00:04 AM</td>\n",
       "      <td>2.569260</td>\n",
       "      <td>523.4748</td>\n",
       "      <td>2</td>\n",
       "      <td>2</td>\n",
       "      <td>1</td>\n",
       "      <td>262.0161</td>\n",
       "      <td>8.394514</td>\n",
       "      <td>328.6337</td>\n",
       "      <td>2.443085</td>\n",
       "      <td>...</td>\n",
       "      <td>2</td>\n",
       "      <td>1</td>\n",
       "      <td>250.8812</td>\n",
       "      <td>1.649953</td>\n",
       "      <td>189.5027</td>\n",
       "      <td>0.000128</td>\n",
       "      <td>1</td>\n",
       "      <td>1</td>\n",
       "      <td>1</td>\n",
       "      <td>Normal</td>\n",
       "    </tr>\n",
       "  </tbody>\n",
       "</table>\n",
       "<p>5 rows × 53 columns</p>\n",
       "</div>"
      ],
      "text/plain": [
       "                 Timestamp    FIT101    LIT101   MV101  P101  P102    AIT201  \\\n",
       "0   28/12/2015 10:00:00 AM  2.427057  522.8467       2     2     1  262.0161   \n",
       "1   28/12/2015 10:00:01 AM  2.446274  522.8860       2     2     1  262.0161   \n",
       "2   28/12/2015 10:00:02 AM  2.489191  522.8467       2     2     1  262.0161   \n",
       "3   28/12/2015 10:00:03 AM  2.534350  522.9645       2     2     1  262.0161   \n",
       "4   28/12/2015 10:00:04 AM  2.569260  523.4748       2     2     1  262.0161   \n",
       "\n",
       "     AIT202    AIT203    FIT201  ...  P501  P502    PIT501    PIT502  \\\n",
       "0  8.396437  328.6337  2.445391  ...     2     1  250.8652  1.649953   \n",
       "1  8.396437  328.6337  2.445391  ...     2     1  250.8652  1.649953   \n",
       "2  8.394514  328.6337  2.442316  ...     2     1  250.8812  1.649953   \n",
       "3  8.394514  328.6337  2.442316  ...     2     1  250.8812  1.649953   \n",
       "4  8.394514  328.6337  2.443085  ...     2     1  250.8812  1.649953   \n",
       "\n",
       "     PIT503    FIT601  P601  P602  P603  Normal/Attack  \n",
       "0  189.5988  0.000128     1     1     1         Normal  \n",
       "1  189.6789  0.000128     1     1     1         Normal  \n",
       "2  189.6789  0.000128     1     1     1         Normal  \n",
       "3  189.6148  0.000128     1     1     1         Normal  \n",
       "4  189.5027  0.000128     1     1     1         Normal  \n",
       "\n",
       "[5 rows x 53 columns]"
      ]
     },
     "execution_count": 5,
     "metadata": {},
     "output_type": "execute_result"
    }
   ],
   "source": [
    "df.head()"
   ]
  },
  {
   "cell_type": "code",
   "execution_count": 6,
   "id": "4ab27988",
   "metadata": {},
   "outputs": [
    {
     "data": {
      "text/plain": [
       "(449775, 53)"
      ]
     },
     "execution_count": 6,
     "metadata": {},
     "output_type": "execute_result"
    }
   ],
   "source": [
    "df.shape"
   ]
  },
  {
   "cell_type": "code",
   "execution_count": 7,
   "id": "2581fd25",
   "metadata": {},
   "outputs": [
    {
     "data": {
      "text/html": [
       "<div>\n",
       "<style scoped>\n",
       "    .dataframe tbody tr th:only-of-type {\n",
       "        vertical-align: middle;\n",
       "    }\n",
       "\n",
       "    .dataframe tbody tr th {\n",
       "        vertical-align: top;\n",
       "    }\n",
       "\n",
       "    .dataframe thead th {\n",
       "        text-align: right;\n",
       "    }\n",
       "</style>\n",
       "<table border=\"1\" class=\"dataframe\">\n",
       "  <thead>\n",
       "    <tr style=\"text-align: right;\">\n",
       "      <th></th>\n",
       "      <th>FIT101</th>\n",
       "      <th>LIT101</th>\n",
       "      <th>MV101</th>\n",
       "      <th>P101</th>\n",
       "      <th>P102</th>\n",
       "      <th>AIT201</th>\n",
       "      <th>AIT202</th>\n",
       "      <th>AIT203</th>\n",
       "      <th>FIT201</th>\n",
       "      <th>MV201</th>\n",
       "      <th>...</th>\n",
       "      <th>FIT504</th>\n",
       "      <th>P501</th>\n",
       "      <th>P502</th>\n",
       "      <th>PIT501</th>\n",
       "      <th>PIT502</th>\n",
       "      <th>PIT503</th>\n",
       "      <th>FIT601</th>\n",
       "      <th>P601</th>\n",
       "      <th>P602</th>\n",
       "      <th>P603</th>\n",
       "    </tr>\n",
       "  </thead>\n",
       "  <tbody>\n",
       "    <tr>\n",
       "      <th>count</th>\n",
       "      <td>449775.000000</td>\n",
       "      <td>449775.000000</td>\n",
       "      <td>449775.000000</td>\n",
       "      <td>449775.000000</td>\n",
       "      <td>449775.000000</td>\n",
       "      <td>449775.000000</td>\n",
       "      <td>449775.000000</td>\n",
       "      <td>449775.000000</td>\n",
       "      <td>449775.000000</td>\n",
       "      <td>449775.000000</td>\n",
       "      <td>...</td>\n",
       "      <td>449775.000000</td>\n",
       "      <td>449775.000000</td>\n",
       "      <td>449775.0</td>\n",
       "      <td>449775.000000</td>\n",
       "      <td>449775.000000</td>\n",
       "      <td>449775.000000</td>\n",
       "      <td>449775.000000</td>\n",
       "      <td>449775.0</td>\n",
       "      <td>449775.000000</td>\n",
       "      <td>449775.0</td>\n",
       "    </tr>\n",
       "    <tr>\n",
       "      <th>mean</th>\n",
       "      <td>1.714083</td>\n",
       "      <td>607.035321</td>\n",
       "      <td>1.665228</td>\n",
       "      <td>1.693473</td>\n",
       "      <td>1.006948</td>\n",
       "      <td>210.308648</td>\n",
       "      <td>8.528483</td>\n",
       "      <td>320.311652</td>\n",
       "      <td>1.703419</td>\n",
       "      <td>1.691824</td>\n",
       "      <td>...</td>\n",
       "      <td>0.283799</td>\n",
       "      <td>1.925838</td>\n",
       "      <td>1.0</td>\n",
       "      <td>232.168691</td>\n",
       "      <td>1.013434</td>\n",
       "      <td>174.710712</td>\n",
       "      <td>0.016553</td>\n",
       "      <td>1.0</td>\n",
       "      <td>1.009076</td>\n",
       "      <td>1.0</td>\n",
       "    </tr>\n",
       "    <tr>\n",
       "      <th>std</th>\n",
       "      <td>1.191815</td>\n",
       "      <td>125.319579</td>\n",
       "      <td>0.482363</td>\n",
       "      <td>0.461052</td>\n",
       "      <td>0.083064</td>\n",
       "      <td>35.157817</td>\n",
       "      <td>0.114825</td>\n",
       "      <td>16.623894</td>\n",
       "      <td>1.130069</td>\n",
       "      <td>0.470479</td>\n",
       "      <td>...</td>\n",
       "      <td>0.080936</td>\n",
       "      <td>0.262034</td>\n",
       "      <td>0.0</td>\n",
       "      <td>61.760149</td>\n",
       "      <td>0.412786</td>\n",
       "      <td>47.486941</td>\n",
       "      <td>0.159557</td>\n",
       "      <td>0.0</td>\n",
       "      <td>0.094833</td>\n",
       "      <td>0.0</td>\n",
       "    </tr>\n",
       "    <tr>\n",
       "      <th>min</th>\n",
       "      <td>0.000000</td>\n",
       "      <td>189.826300</td>\n",
       "      <td>0.000000</td>\n",
       "      <td>1.000000</td>\n",
       "      <td>1.000000</td>\n",
       "      <td>168.033800</td>\n",
       "      <td>6.000000</td>\n",
       "      <td>285.337100</td>\n",
       "      <td>0.000000</td>\n",
       "      <td>0.000000</td>\n",
       "      <td>...</td>\n",
       "      <td>0.000000</td>\n",
       "      <td>1.000000</td>\n",
       "      <td>1.0</td>\n",
       "      <td>9.468726</td>\n",
       "      <td>0.000000</td>\n",
       "      <td>3.140220</td>\n",
       "      <td>0.000000</td>\n",
       "      <td>1.0</td>\n",
       "      <td>1.000000</td>\n",
       "      <td>1.0</td>\n",
       "    </tr>\n",
       "    <tr>\n",
       "      <th>25%</th>\n",
       "      <td>0.000000</td>\n",
       "      <td>510.011100</td>\n",
       "      <td>1.000000</td>\n",
       "      <td>1.000000</td>\n",
       "      <td>1.000000</td>\n",
       "      <td>177.102000</td>\n",
       "      <td>8.441298</td>\n",
       "      <td>306.408600</td>\n",
       "      <td>0.000000</td>\n",
       "      <td>1.000000</td>\n",
       "      <td>...</td>\n",
       "      <td>0.306249</td>\n",
       "      <td>2.000000</td>\n",
       "      <td>1.0</td>\n",
       "      <td>248.029400</td>\n",
       "      <td>0.816967</td>\n",
       "      <td>186.698900</td>\n",
       "      <td>0.000000</td>\n",
       "      <td>1.0</td>\n",
       "      <td>1.000000</td>\n",
       "      <td>1.0</td>\n",
       "    </tr>\n",
       "    <tr>\n",
       "      <th>50%</th>\n",
       "      <td>2.477020</td>\n",
       "      <td>530.383200</td>\n",
       "      <td>2.000000</td>\n",
       "      <td>2.000000</td>\n",
       "      <td>1.000000</td>\n",
       "      <td>193.540100</td>\n",
       "      <td>8.551525</td>\n",
       "      <td>321.661100</td>\n",
       "      <td>2.446673</td>\n",
       "      <td>2.000000</td>\n",
       "      <td>...</td>\n",
       "      <td>0.306633</td>\n",
       "      <td>2.000000</td>\n",
       "      <td>1.0</td>\n",
       "      <td>249.295100</td>\n",
       "      <td>0.961138</td>\n",
       "      <td>187.724300</td>\n",
       "      <td>0.000000</td>\n",
       "      <td>1.0</td>\n",
       "      <td>1.000000</td>\n",
       "      <td>1.0</td>\n",
       "    </tr>\n",
       "    <tr>\n",
       "      <th>75%</th>\n",
       "      <td>2.577907</td>\n",
       "      <td>727.471400</td>\n",
       "      <td>2.000000</td>\n",
       "      <td>2.000000</td>\n",
       "      <td>1.000000</td>\n",
       "      <td>254.005400</td>\n",
       "      <td>8.610806</td>\n",
       "      <td>331.684200</td>\n",
       "      <td>2.454362</td>\n",
       "      <td>2.000000</td>\n",
       "      <td>...</td>\n",
       "      <td>0.308106</td>\n",
       "      <td>2.000000</td>\n",
       "      <td>1.0</td>\n",
       "      <td>250.881200</td>\n",
       "      <td>1.409669</td>\n",
       "      <td>189.118200</td>\n",
       "      <td>0.000128</td>\n",
       "      <td>1.0</td>\n",
       "      <td>1.000000</td>\n",
       "      <td>1.0</td>\n",
       "    </tr>\n",
       "    <tr>\n",
       "      <th>max</th>\n",
       "      <td>2.760145</td>\n",
       "      <td>925.032300</td>\n",
       "      <td>2.000000</td>\n",
       "      <td>2.000000</td>\n",
       "      <td>2.000000</td>\n",
       "      <td>267.719800</td>\n",
       "      <td>8.733210</td>\n",
       "      <td>384.465500</td>\n",
       "      <td>2.826899</td>\n",
       "      <td>2.000000</td>\n",
       "      <td>...</td>\n",
       "      <td>0.311693</td>\n",
       "      <td>2.000000</td>\n",
       "      <td>1.0</td>\n",
       "      <td>254.341800</td>\n",
       "      <td>1.970333</td>\n",
       "      <td>191.986000</td>\n",
       "      <td>1.802710</td>\n",
       "      <td>1.0</td>\n",
       "      <td>2.000000</td>\n",
       "      <td>1.0</td>\n",
       "    </tr>\n",
       "  </tbody>\n",
       "</table>\n",
       "<p>8 rows × 51 columns</p>\n",
       "</div>"
      ],
      "text/plain": [
       "              FIT101         LIT101          MV101           P101  \\\n",
       "count  449775.000000  449775.000000  449775.000000  449775.000000   \n",
       "mean        1.714083     607.035321       1.665228       1.693473   \n",
       "std         1.191815     125.319579       0.482363       0.461052   \n",
       "min         0.000000     189.826300       0.000000       1.000000   \n",
       "25%         0.000000     510.011100       1.000000       1.000000   \n",
       "50%         2.477020     530.383200       2.000000       2.000000   \n",
       "75%         2.577907     727.471400       2.000000       2.000000   \n",
       "max         2.760145     925.032300       2.000000       2.000000   \n",
       "\n",
       "                P102         AIT201         AIT202         AIT203  \\\n",
       "count  449775.000000  449775.000000  449775.000000  449775.000000   \n",
       "mean        1.006948     210.308648       8.528483     320.311652   \n",
       "std         0.083064      35.157817       0.114825      16.623894   \n",
       "min         1.000000     168.033800       6.000000     285.337100   \n",
       "25%         1.000000     177.102000       8.441298     306.408600   \n",
       "50%         1.000000     193.540100       8.551525     321.661100   \n",
       "75%         1.000000     254.005400       8.610806     331.684200   \n",
       "max         2.000000     267.719800       8.733210     384.465500   \n",
       "\n",
       "              FIT201          MV201  ...         FIT504           P501  \\\n",
       "count  449775.000000  449775.000000  ...  449775.000000  449775.000000   \n",
       "mean        1.703419       1.691824  ...       0.283799       1.925838   \n",
       "std         1.130069       0.470479  ...       0.080936       0.262034   \n",
       "min         0.000000       0.000000  ...       0.000000       1.000000   \n",
       "25%         0.000000       1.000000  ...       0.306249       2.000000   \n",
       "50%         2.446673       2.000000  ...       0.306633       2.000000   \n",
       "75%         2.454362       2.000000  ...       0.308106       2.000000   \n",
       "max         2.826899       2.000000  ...       0.311693       2.000000   \n",
       "\n",
       "           P502         PIT501         PIT502         PIT503         FIT601  \\\n",
       "count  449775.0  449775.000000  449775.000000  449775.000000  449775.000000   \n",
       "mean        1.0     232.168691       1.013434     174.710712       0.016553   \n",
       "std         0.0      61.760149       0.412786      47.486941       0.159557   \n",
       "min         1.0       9.468726       0.000000       3.140220       0.000000   \n",
       "25%         1.0     248.029400       0.816967     186.698900       0.000000   \n",
       "50%         1.0     249.295100       0.961138     187.724300       0.000000   \n",
       "75%         1.0     250.881200       1.409669     189.118200       0.000128   \n",
       "max         1.0     254.341800       1.970333     191.986000       1.802710   \n",
       "\n",
       "           P601           P602      P603  \n",
       "count  449775.0  449775.000000  449775.0  \n",
       "mean        1.0       1.009076       1.0  \n",
       "std         0.0       0.094833       0.0  \n",
       "min         1.0       1.000000       1.0  \n",
       "25%         1.0       1.000000       1.0  \n",
       "50%         1.0       1.000000       1.0  \n",
       "75%         1.0       1.000000       1.0  \n",
       "max         1.0       2.000000       1.0  \n",
       "\n",
       "[8 rows x 51 columns]"
      ]
     },
     "execution_count": 7,
     "metadata": {},
     "output_type": "execute_result"
    }
   ],
   "source": [
    "df.describe()"
   ]
  },
  {
   "cell_type": "markdown",
   "id": "599ec508",
   "metadata": {},
   "source": [
    "Now we want to check the Target values"
   ]
  },
  {
   "cell_type": "code",
   "execution_count": 8,
   "id": "b7d61a9e",
   "metadata": {},
   "outputs": [
    {
     "data": {
      "text/plain": [
       "Normal     395154\n",
       "Attack      54584\n",
       "A ttack        37\n",
       "Name: Normal/Attack, dtype: int64"
      ]
     },
     "execution_count": 8,
     "metadata": {},
     "output_type": "execute_result"
    }
   ],
   "source": [
    "df['Normal/Attack'].value_counts()"
   ]
  },
  {
   "cell_type": "markdown",
   "id": "4a327ec5",
   "metadata": {},
   "source": [
    "There are some tiping issues in the Target values. Let's fix it "
   ]
  },
  {
   "cell_type": "code",
   "execution_count": 9,
   "id": "9a7ab112",
   "metadata": {},
   "outputs": [],
   "source": [
    "df[\"Normal/Attack\"].replace('A ttack', 'Attack', inplace=True)"
   ]
  },
  {
   "cell_type": "code",
   "execution_count": 10,
   "id": "d0ffa167",
   "metadata": {},
   "outputs": [
    {
     "data": {
      "text/plain": [
       "Normal    395154\n",
       "Attack     54621\n",
       "Name: Normal/Attack, dtype: int64"
      ]
     },
     "execution_count": 10,
     "metadata": {},
     "output_type": "execute_result"
    }
   ],
   "source": [
    "df['Normal/Attack'].value_counts()"
   ]
  },
  {
   "cell_type": "code",
   "execution_count": 11,
   "id": "c3c0a1c7",
   "metadata": {},
   "outputs": [],
   "source": [
    "df = df.drop(columns=' Timestamp', axis=1)"
   ]
  },
  {
   "cell_type": "markdown",
   "id": "43f65bf4",
   "metadata": {},
   "source": [
    "Some values in the dataset are useless! It's better to remove them :))"
   ]
  },
  {
   "cell_type": "code",
   "execution_count": 12,
   "id": "19cd932e",
   "metadata": {},
   "outputs": [],
   "source": [
    "df = df.replace(0, np.nan).interpolate(method ='linear', limit_direction ='forward').fillna(0)"
   ]
  },
  {
   "cell_type": "code",
   "execution_count": 13,
   "id": "98ed2ac5",
   "metadata": {
    "scrolled": true
   },
   "outputs": [
    {
     "name": "stdout",
     "output_type": "stream",
     "text": [
      "<class 'pandas.core.frame.DataFrame'>\n",
      "RangeIndex: 449775 entries, 0 to 449774\n",
      "Data columns (total 52 columns):\n",
      " #   Column         Non-Null Count   Dtype  \n",
      "---  ------         --------------   -----  \n",
      " 0   FIT101         449775 non-null  float64\n",
      " 1   LIT101         449775 non-null  float64\n",
      " 2    MV101         449775 non-null  float64\n",
      " 3   P101           449775 non-null  int64  \n",
      " 4   P102           449775 non-null  int64  \n",
      " 5    AIT201        449775 non-null  float64\n",
      " 6   AIT202         449775 non-null  float64\n",
      " 7   AIT203         449775 non-null  float64\n",
      " 8   FIT201         449775 non-null  float64\n",
      " 9    MV201         449775 non-null  float64\n",
      " 10   P201          449775 non-null  int64  \n",
      " 11   P202          449775 non-null  int64  \n",
      " 12  P203           449775 non-null  int64  \n",
      " 13   P204          449775 non-null  int64  \n",
      " 14  P205           449775 non-null  int64  \n",
      " 15  P206           449775 non-null  int64  \n",
      " 16  DPIT301        449775 non-null  float64\n",
      " 17  FIT301         449775 non-null  float64\n",
      " 18  LIT301         449775 non-null  float64\n",
      " 19  MV301          449775 non-null  float64\n",
      " 20  MV302          449775 non-null  float64\n",
      " 21   MV303         449775 non-null  float64\n",
      " 22  MV304          449775 non-null  float64\n",
      " 23  P301           449775 non-null  int64  \n",
      " 24  P302           449775 non-null  int64  \n",
      " 25  AIT401         449775 non-null  float64\n",
      " 26  AIT402         449775 non-null  float64\n",
      " 27  FIT401         449775 non-null  float64\n",
      " 28  LIT401         449775 non-null  float64\n",
      " 29  P401           449775 non-null  int64  \n",
      " 30  P402           449775 non-null  int64  \n",
      " 31  P403           449775 non-null  int64  \n",
      " 32  P404           449775 non-null  int64  \n",
      " 33  UV401          449775 non-null  int64  \n",
      " 34  AIT501         449775 non-null  float64\n",
      " 35  AIT502         449775 non-null  float64\n",
      " 36  AIT503         449775 non-null  float64\n",
      " 37  AIT504         449775 non-null  float64\n",
      " 38  FIT501         449775 non-null  float64\n",
      " 39  FIT502         449775 non-null  float64\n",
      " 40  FIT503         449775 non-null  float64\n",
      " 41  FIT504         449775 non-null  float64\n",
      " 42  P501           449775 non-null  int64  \n",
      " 43  P502           449775 non-null  int64  \n",
      " 44  PIT501         449775 non-null  float64\n",
      " 45  PIT502         449775 non-null  float64\n",
      " 46  PIT503         449775 non-null  float64\n",
      " 47  FIT601         449775 non-null  float64\n",
      " 48  P601           449775 non-null  int64  \n",
      " 49  P602           449775 non-null  int64  \n",
      " 50  P603           449775 non-null  int64  \n",
      " 51  Normal/Attack  449775 non-null  object \n",
      "dtypes: float64(31), int64(20), object(1)\n",
      "memory usage: 178.4+ MB\n"
     ]
    },
    {
     "ename": "KeyError",
     "evalue": "0",
     "output_type": "error",
     "traceback": [
      "\u001b[1;31m---------------------------------------------------------------------------\u001b[0m",
      "\u001b[1;31mKeyError\u001b[0m                                  Traceback (most recent call last)",
      "File \u001b[1;32m~\\anaconda3\\lib\\site-packages\\pandas\\core\\indexes\\base.py:3621\u001b[0m, in \u001b[0;36mIndex.get_loc\u001b[1;34m(self, key, method, tolerance)\u001b[0m\n\u001b[0;32m   3620\u001b[0m \u001b[38;5;28;01mtry\u001b[39;00m:\n\u001b[1;32m-> 3621\u001b[0m     \u001b[38;5;28;01mreturn\u001b[39;00m \u001b[38;5;28;43mself\u001b[39;49m\u001b[38;5;241;43m.\u001b[39;49m\u001b[43m_engine\u001b[49m\u001b[38;5;241;43m.\u001b[39;49m\u001b[43mget_loc\u001b[49m\u001b[43m(\u001b[49m\u001b[43mcasted_key\u001b[49m\u001b[43m)\u001b[49m\n\u001b[0;32m   3622\u001b[0m \u001b[38;5;28;01mexcept\u001b[39;00m \u001b[38;5;167;01mKeyError\u001b[39;00m \u001b[38;5;28;01mas\u001b[39;00m err:\n",
      "File \u001b[1;32m~\\anaconda3\\lib\\site-packages\\pandas\\_libs\\index.pyx:136\u001b[0m, in \u001b[0;36mpandas._libs.index.IndexEngine.get_loc\u001b[1;34m()\u001b[0m\n",
      "File \u001b[1;32m~\\anaconda3\\lib\\site-packages\\pandas\\_libs\\index.pyx:163\u001b[0m, in \u001b[0;36mpandas._libs.index.IndexEngine.get_loc\u001b[1;34m()\u001b[0m\n",
      "File \u001b[1;32mpandas\\_libs\\hashtable_class_helper.pxi:1533\u001b[0m, in \u001b[0;36mpandas._libs.hashtable.Float64HashTable.get_item\u001b[1;34m()\u001b[0m\n",
      "File \u001b[1;32mpandas\\_libs\\hashtable_class_helper.pxi:1542\u001b[0m, in \u001b[0;36mpandas._libs.hashtable.Float64HashTable.get_item\u001b[1;34m()\u001b[0m\n",
      "\u001b[1;31mKeyError\u001b[0m: 0.0",
      "\nThe above exception was the direct cause of the following exception:\n",
      "\u001b[1;31mKeyError\u001b[0m                                  Traceback (most recent call last)",
      "Input \u001b[1;32mIn [13]\u001b[0m, in \u001b[0;36m<cell line: 2>\u001b[1;34m()\u001b[0m\n\u001b[0;32m      1\u001b[0m df\u001b[38;5;241m.\u001b[39minfo()\n\u001b[1;32m----> 2\u001b[0m \u001b[43mdf\u001b[49m\u001b[38;5;241;43m.\u001b[39;49m\u001b[43mvalue_counts\u001b[49m\u001b[43m(\u001b[49m\u001b[43m)\u001b[49m\u001b[43m[\u001b[49m\u001b[38;5;241;43m0\u001b[39;49m\u001b[43m]\u001b[49m\n",
      "File \u001b[1;32m~\\anaconda3\\lib\\site-packages\\pandas\\core\\series.py:958\u001b[0m, in \u001b[0;36mSeries.__getitem__\u001b[1;34m(self, key)\u001b[0m\n\u001b[0;32m    955\u001b[0m     \u001b[38;5;28;01mreturn\u001b[39;00m \u001b[38;5;28mself\u001b[39m\u001b[38;5;241m.\u001b[39m_values[key]\n\u001b[0;32m    957\u001b[0m \u001b[38;5;28;01melif\u001b[39;00m key_is_scalar:\n\u001b[1;32m--> 958\u001b[0m     \u001b[38;5;28;01mreturn\u001b[39;00m \u001b[38;5;28;43mself\u001b[39;49m\u001b[38;5;241;43m.\u001b[39;49m\u001b[43m_get_value\u001b[49m\u001b[43m(\u001b[49m\u001b[43mkey\u001b[49m\u001b[43m)\u001b[49m\n\u001b[0;32m    960\u001b[0m \u001b[38;5;28;01mif\u001b[39;00m is_hashable(key):\n\u001b[0;32m    961\u001b[0m     \u001b[38;5;66;03m# Otherwise index.get_value will raise InvalidIndexError\u001b[39;00m\n\u001b[0;32m    962\u001b[0m     \u001b[38;5;28;01mtry\u001b[39;00m:\n\u001b[0;32m    963\u001b[0m         \u001b[38;5;66;03m# For labels that don't resolve as scalars like tuples and frozensets\u001b[39;00m\n",
      "File \u001b[1;32m~\\anaconda3\\lib\\site-packages\\pandas\\core\\series.py:1069\u001b[0m, in \u001b[0;36mSeries._get_value\u001b[1;34m(self, label, takeable)\u001b[0m\n\u001b[0;32m   1066\u001b[0m     \u001b[38;5;28;01mreturn\u001b[39;00m \u001b[38;5;28mself\u001b[39m\u001b[38;5;241m.\u001b[39m_values[label]\n\u001b[0;32m   1068\u001b[0m \u001b[38;5;66;03m# Similar to Index.get_value, but we do not fall back to positional\u001b[39;00m\n\u001b[1;32m-> 1069\u001b[0m loc \u001b[38;5;241m=\u001b[39m \u001b[38;5;28;43mself\u001b[39;49m\u001b[38;5;241;43m.\u001b[39;49m\u001b[43mindex\u001b[49m\u001b[38;5;241;43m.\u001b[39;49m\u001b[43mget_loc\u001b[49m\u001b[43m(\u001b[49m\u001b[43mlabel\u001b[49m\u001b[43m)\u001b[49m\n\u001b[0;32m   1070\u001b[0m \u001b[38;5;28;01mreturn\u001b[39;00m \u001b[38;5;28mself\u001b[39m\u001b[38;5;241m.\u001b[39mindex\u001b[38;5;241m.\u001b[39m_get_values_for_loc(\u001b[38;5;28mself\u001b[39m, loc, label)\n",
      "File \u001b[1;32m~\\anaconda3\\lib\\site-packages\\pandas\\core\\indexes\\multi.py:2869\u001b[0m, in \u001b[0;36mMultiIndex.get_loc\u001b[1;34m(self, key, method)\u001b[0m\n\u001b[0;32m   2866\u001b[0m     \u001b[38;5;28;01mreturn\u001b[39;00m mask\n\u001b[0;32m   2868\u001b[0m \u001b[38;5;28;01mif\u001b[39;00m \u001b[38;5;129;01mnot\u001b[39;00m \u001b[38;5;28misinstance\u001b[39m(key, \u001b[38;5;28mtuple\u001b[39m):\n\u001b[1;32m-> 2869\u001b[0m     loc \u001b[38;5;241m=\u001b[39m \u001b[38;5;28;43mself\u001b[39;49m\u001b[38;5;241;43m.\u001b[39;49m\u001b[43m_get_level_indexer\u001b[49m\u001b[43m(\u001b[49m\u001b[43mkey\u001b[49m\u001b[43m,\u001b[49m\u001b[43m \u001b[49m\u001b[43mlevel\u001b[49m\u001b[38;5;241;43m=\u001b[39;49m\u001b[38;5;241;43m0\u001b[39;49m\u001b[43m)\u001b[49m\n\u001b[0;32m   2870\u001b[0m     \u001b[38;5;28;01mreturn\u001b[39;00m _maybe_to_slice(loc)\n\u001b[0;32m   2872\u001b[0m keylen \u001b[38;5;241m=\u001b[39m \u001b[38;5;28mlen\u001b[39m(key)\n",
      "File \u001b[1;32m~\\anaconda3\\lib\\site-packages\\pandas\\core\\indexes\\multi.py:3222\u001b[0m, in \u001b[0;36mMultiIndex._get_level_indexer\u001b[1;34m(self, key, level, indexer)\u001b[0m\n\u001b[0;32m   3218\u001b[0m         \u001b[38;5;28;01mreturn\u001b[39;00m \u001b[38;5;28mslice\u001b[39m(i, j, step)\n\u001b[0;32m   3220\u001b[0m \u001b[38;5;28;01melse\u001b[39;00m:\n\u001b[1;32m-> 3222\u001b[0m     idx \u001b[38;5;241m=\u001b[39m \u001b[38;5;28;43mself\u001b[39;49m\u001b[38;5;241;43m.\u001b[39;49m\u001b[43m_get_loc_single_level_index\u001b[49m\u001b[43m(\u001b[49m\u001b[43mlevel_index\u001b[49m\u001b[43m,\u001b[49m\u001b[43m \u001b[49m\u001b[43mkey\u001b[49m\u001b[43m)\u001b[49m\n\u001b[0;32m   3224\u001b[0m     \u001b[38;5;28;01mif\u001b[39;00m level \u001b[38;5;241m>\u001b[39m \u001b[38;5;241m0\u001b[39m \u001b[38;5;129;01mor\u001b[39;00m \u001b[38;5;28mself\u001b[39m\u001b[38;5;241m.\u001b[39m_lexsort_depth \u001b[38;5;241m==\u001b[39m \u001b[38;5;241m0\u001b[39m:\n\u001b[0;32m   3225\u001b[0m         \u001b[38;5;66;03m# Desired level is not sorted\u001b[39;00m\n\u001b[0;32m   3226\u001b[0m         \u001b[38;5;28;01mif\u001b[39;00m \u001b[38;5;28misinstance\u001b[39m(idx, \u001b[38;5;28mslice\u001b[39m):\n\u001b[0;32m   3227\u001b[0m             \u001b[38;5;66;03m# test_get_loc_partial_timestamp_multiindex\u001b[39;00m\n",
      "File \u001b[1;32m~\\anaconda3\\lib\\site-packages\\pandas\\core\\indexes\\multi.py:2802\u001b[0m, in \u001b[0;36mMultiIndex._get_loc_single_level_index\u001b[1;34m(self, level_index, key)\u001b[0m\n\u001b[0;32m   2800\u001b[0m     \u001b[38;5;28;01mreturn\u001b[39;00m \u001b[38;5;241m-\u001b[39m\u001b[38;5;241m1\u001b[39m\n\u001b[0;32m   2801\u001b[0m \u001b[38;5;28;01melse\u001b[39;00m:\n\u001b[1;32m-> 2802\u001b[0m     \u001b[38;5;28;01mreturn\u001b[39;00m \u001b[43mlevel_index\u001b[49m\u001b[38;5;241;43m.\u001b[39;49m\u001b[43mget_loc\u001b[49m\u001b[43m(\u001b[49m\u001b[43mkey\u001b[49m\u001b[43m)\u001b[49m\n",
      "File \u001b[1;32m~\\anaconda3\\lib\\site-packages\\pandas\\core\\indexes\\base.py:3623\u001b[0m, in \u001b[0;36mIndex.get_loc\u001b[1;34m(self, key, method, tolerance)\u001b[0m\n\u001b[0;32m   3621\u001b[0m     \u001b[38;5;28;01mreturn\u001b[39;00m \u001b[38;5;28mself\u001b[39m\u001b[38;5;241m.\u001b[39m_engine\u001b[38;5;241m.\u001b[39mget_loc(casted_key)\n\u001b[0;32m   3622\u001b[0m \u001b[38;5;28;01mexcept\u001b[39;00m \u001b[38;5;167;01mKeyError\u001b[39;00m \u001b[38;5;28;01mas\u001b[39;00m err:\n\u001b[1;32m-> 3623\u001b[0m     \u001b[38;5;28;01mraise\u001b[39;00m \u001b[38;5;167;01mKeyError\u001b[39;00m(key) \u001b[38;5;28;01mfrom\u001b[39;00m \u001b[38;5;21;01merr\u001b[39;00m\n\u001b[0;32m   3624\u001b[0m \u001b[38;5;28;01mexcept\u001b[39;00m \u001b[38;5;167;01mTypeError\u001b[39;00m:\n\u001b[0;32m   3625\u001b[0m     \u001b[38;5;66;03m# If we have a listlike key, _check_indexing_error will raise\u001b[39;00m\n\u001b[0;32m   3626\u001b[0m     \u001b[38;5;66;03m#  InvalidIndexError. Otherwise we fall through and re-raise\u001b[39;00m\n\u001b[0;32m   3627\u001b[0m     \u001b[38;5;66;03m#  the TypeError.\u001b[39;00m\n\u001b[0;32m   3628\u001b[0m     \u001b[38;5;28mself\u001b[39m\u001b[38;5;241m.\u001b[39m_check_indexing_error(key)\n",
      "\u001b[1;31mKeyError\u001b[0m: 0"
     ]
    }
   ],
   "source": [
    "df.info()\n",
    "df.value_counts()[0]"
   ]
  },
  {
   "cell_type": "markdown",
   "id": "f0b00717",
   "metadata": {},
   "source": [
    "Now it's time to split the features and Target"
   ]
  },
  {
   "cell_type": "code",
   "execution_count": 14,
   "id": "3ceb3bc1",
   "metadata": {},
   "outputs": [],
   "source": [
    "X = df.drop(columns='Normal/Attack', axis=1)\n",
    "y = df['Normal/Attack'].values"
   ]
  },
  {
   "cell_type": "code",
   "execution_count": 15,
   "id": "373b7e46",
   "metadata": {},
   "outputs": [
    {
     "name": "stdout",
     "output_type": "stream",
     "text": [
      "          FIT101    LIT101   MV101  P101  P102    AIT201    AIT202    AIT203  \\\n",
      "0       2.427057  522.8467     2.0     2     1  262.0161  8.396437  328.6337   \n",
      "1       2.446274  522.8860     2.0     2     1  262.0161  8.396437  328.6337   \n",
      "2       2.489191  522.8467     2.0     2     1  262.0161  8.394514  328.6337   \n",
      "3       2.534350  522.9645     2.0     2     1  262.0161  8.394514  328.6337   \n",
      "4       2.569260  523.4748     2.0     2     1  262.0161  8.394514  328.6337   \n",
      "...          ...       ...     ...   ...   ...       ...       ...       ...   \n",
      "449770  2.559972  519.5495     2.0     2     1  168.0979  8.638683  301.9226   \n",
      "449771  2.549082  520.4131     2.0     2     1  168.0979  8.638683  301.9226   \n",
      "449772  2.531467  520.6878     2.0     2     1  168.0979  8.638683  301.9226   \n",
      "449773  2.521218  520.7271     2.0     2     1  168.0979  8.638683  301.9226   \n",
      "449774  2.501681  521.1196     2.0     2     1  168.0979  8.638683  301.9226   \n",
      "\n",
      "          FIT201   MV201  ...    FIT504  P501  P502    PIT501    PIT502  \\\n",
      "0       2.445391     2.0  ...  0.307786     2     1  250.8652  1.649953   \n",
      "1       2.445391     2.0  ...  0.307786     2     1  250.8652  1.649953   \n",
      "2       2.442316     2.0  ...  0.308619     2     1  250.8812  1.649953   \n",
      "3       2.442316     2.0  ...  0.308619     2     1  250.8812  1.649953   \n",
      "4       2.443085     2.0  ...  0.308619     2     1  250.8812  1.649953   \n",
      "...          ...     ...  ...       ...   ...   ...       ...       ...   \n",
      "449770  2.459488     2.0  ...  0.306569     2     1  251.1535  0.865024   \n",
      "449771  2.459488     2.0  ...  0.306569     2     1  251.0734  0.865024   \n",
      "449772  2.460129     2.0  ...  0.306569     2     1  251.0734  0.865024   \n",
      "449773  2.460129     2.0  ...  0.307978     2     1  251.0734  0.865024   \n",
      "449774  2.458206     2.0  ...  0.308298     2     1  251.0734  0.865024   \n",
      "\n",
      "          PIT503    FIT601  P601  P602  P603  \n",
      "0       189.5988  0.000128     1     1     1  \n",
      "1       189.6789  0.000128     1     1     1  \n",
      "2       189.6789  0.000128     1     1     1  \n",
      "3       189.6148  0.000128     1     1     1  \n",
      "4       189.5027  0.000128     1     1     1  \n",
      "...          ...       ...   ...   ...   ...  \n",
      "449770  189.0220  0.000128     1     1     1  \n",
      "449771  188.9259  0.000128     1     1     1  \n",
      "449772  188.9259  0.000128     1     1     1  \n",
      "449773  188.9259  0.000128     1     1     1  \n",
      "449774  188.9259  0.000128     1     1     1  \n",
      "\n",
      "[449775 rows x 51 columns]\n"
     ]
    }
   ],
   "source": [
    "print(X)"
   ]
  },
  {
   "cell_type": "code",
   "execution_count": 16,
   "id": "06428f35",
   "metadata": {},
   "outputs": [
    {
     "name": "stdout",
     "output_type": "stream",
     "text": [
      "['Normal' 'Normal' 'Normal' ... 'Normal' 'Normal' 'Normal']\n"
     ]
    }
   ],
   "source": [
    "print(y)"
   ]
  },
  {
   "cell_type": "markdown",
   "id": "7712f901",
   "metadata": {},
   "source": [
    "Let's split the data into train, test and validation set"
   ]
  },
  {
   "cell_type": "code",
   "execution_count": 17,
   "id": "f8050994",
   "metadata": {},
   "outputs": [],
   "source": [
    "X_train, y_train, X_valid, y_valid, X_test, y_test = train_valid_test_split(df, target = 'Normal/Attack',\n",
    "                                                                            train_size = .6, valid_size=0.2, test_size=0.2)"
   ]
  },
  {
   "cell_type": "code",
   "execution_count": 18,
   "id": "a137615c",
   "metadata": {},
   "outputs": [
    {
     "name": "stdout",
     "output_type": "stream",
     "text": [
      "(269865, 51) (269865,)\n",
      "(89955, 51) (89955,)\n",
      "(89955, 51) (89955,)\n"
     ]
    }
   ],
   "source": [
    "print(X_train.shape, y_train.shape)\n",
    "print(X_valid.shape, y_valid.shape)\n",
    "print(X_test.shape, y_test.shape)"
   ]
  },
  {
   "cell_type": "markdown",
   "id": "63e33b5d",
   "metadata": {},
   "source": [
    "Now it's time to standardize the data"
   ]
  },
  {
   "cell_type": "code",
   "execution_count": 19,
   "id": "2fcbc189",
   "metadata": {},
   "outputs": [
    {
     "data": {
      "text/plain": [
       "StandardScaler()"
      ]
     },
     "execution_count": 19,
     "metadata": {},
     "output_type": "execute_result"
    }
   ],
   "source": [
    "scaler = StandardScaler()\n",
    "scaler.fit(X_train,)\n",
    "scaler.fit(X_valid)\n",
    "scaler.fit(X_test)"
   ]
  },
  {
   "cell_type": "code",
   "execution_count": 20,
   "id": "9eaa7dd3",
   "metadata": {},
   "outputs": [],
   "source": [
    "standardized_data_train = scaler.transform(X_train)\n",
    "standardized_data_valid = scaler.transform(X_valid)\n",
    "standardized_data_test = scaler.transform(X_test)"
   ]
  },
  {
   "cell_type": "code",
   "execution_count": 21,
   "id": "a91538cc",
   "metadata": {},
   "outputs": [],
   "source": [
    "X_train = standardized_data_train\n",
    "X_valid = standardized_data_valid\n",
    "X_test = standardized_data_test"
   ]
  },
  {
   "cell_type": "code",
   "execution_count": 22,
   "id": "ebb937b8",
   "metadata": {},
   "outputs": [
    {
     "name": "stdout",
     "output_type": "stream",
     "text": [
      "(449775, 51) (269865, 51) (89955, 51)\n"
     ]
    }
   ],
   "source": [
    "print(X.shape, X_train.shape, X_test.shape)"
   ]
  },
  {
   "cell_type": "markdown",
   "id": "96cde1fe",
   "metadata": {},
   "source": [
    "Defining the model"
   ]
  },
  {
   "cell_type": "code",
   "execution_count": 23,
   "id": "e031ff02",
   "metadata": {},
   "outputs": [
    {
     "data": {
      "text/plain": [
       "SGDClassifier(tol=0.01)"
      ]
     },
     "execution_count": 23,
     "metadata": {},
     "output_type": "execute_result"
    }
   ],
   "source": [
    "classifier = SGDClassifier(max_iter=1000, tol=0.01)\n",
    "classifier.fit(X_train, y_train)"
   ]
  },
  {
   "cell_type": "markdown",
   "id": "2dcef8a0",
   "metadata": {},
   "source": [
    "Let's find th accuracy"
   ]
  },
  {
   "cell_type": "code",
   "execution_count": 24,
   "id": "922508df",
   "metadata": {},
   "outputs": [
    {
     "name": "stdout",
     "output_type": "stream",
     "text": [
      "Accuracy score of Test data: 0.9685398254682897\n"
     ]
    }
   ],
   "source": [
    "X_test_prediction = classifier.predict(X_test)\n",
    "test_data_accuracy = accuracy_score(X_test_prediction, y_test)\n",
    "print('Accuracy score of Test data:', test_data_accuracy)"
   ]
  },
  {
   "cell_type": "markdown",
   "id": "62785547",
   "metadata": {},
   "source": [
    "The accuracy is good but let's tune the hyperparameters to see if it  gets better"
   ]
  },
  {
   "cell_type": "code",
   "execution_count": 34,
   "id": "ed80e645",
   "metadata": {},
   "outputs": [],
   "source": [
    "X_new = X"
   ]
  },
  {
   "cell_type": "code",
   "execution_count": 36,
   "id": "53f24bf3",
   "metadata": {},
   "outputs": [
    {
     "data": {
      "text/plain": [
       "StandardScaler()"
      ]
     },
     "execution_count": 36,
     "metadata": {},
     "output_type": "execute_result"
    }
   ],
   "source": [
    "scaler.fit(X_new)"
   ]
  },
  {
   "cell_type": "code",
   "execution_count": 37,
   "id": "7d3d6028",
   "metadata": {},
   "outputs": [],
   "source": [
    "X_new =scaler.transform(X_new)"
   ]
  },
  {
   "cell_type": "markdown",
   "id": "96dfec80",
   "metadata": {},
   "source": [
    "K_fold cross validation seems like a good way to validate our model!"
   ]
  },
  {
   "cell_type": "code",
   "execution_count": 26,
   "id": "8b873e27",
   "metadata": {},
   "outputs": [],
   "source": [
    "skf = KFold(n_splits= 10, random_state=42, shuffle = True)"
   ]
  },
  {
   "cell_type": "code",
   "execution_count": 38,
   "id": "eaaccb11",
   "metadata": {},
   "outputs": [],
   "source": [
    "df_split_object = skf.split(X_new, y)"
   ]
  },
  {
   "cell_type": "markdown",
   "id": "0dbb17db",
   "metadata": {},
   "source": [
    "The code below wants to show that K_fold randomly pick the train and test set and keeps changing it"
   ]
  },
  {
   "cell_type": "code",
   "execution_count": 39,
   "id": "63693cd3",
   "metadata": {},
   "outputs": [
    {
     "name": "stdout",
     "output_type": "stream",
     "text": [
      "train indices are: [ 0  1  2  3  4  5  6  7  8  9 10 11 12 13 14 15 16 17 18 19 20 21 22 23\n",
      " 24 25 26 27 28 29 32 33 34 35 36 37 38 39 40 41 42 43 44 45 46 47 48 49\n",
      " 50 51]\n",
      "test indices are: [ 31  53  81  85  91 100 102 117 119 123 130 176 222 226 237 250 256 261\n",
      " 270 285 288 289 302 305 317 319 327 332 333 355 356 362 369 371 380 391\n",
      " 396 401 413 416 419 427 442 450 482 483 493 502 508]\n"
     ]
    }
   ],
   "source": [
    "my_split_data= next(df_split_object)\n",
    "print('train indices are:', my_split_data[0][0:50])\n",
    "print('test indices are:', my_split_data[1][1:50])"
   ]
  },
  {
   "cell_type": "code",
   "execution_count": 29,
   "id": "c2f32ce9",
   "metadata": {},
   "outputs": [],
   "source": [
    "predicted_y =[]\n",
    "expected_y =[]"
   ]
  },
  {
   "cell_type": "code",
   "execution_count": 30,
   "id": "c977a89f",
   "metadata": {},
   "outputs": [],
   "source": [
    "from sklearn.preprocessing import MinMaxScaler\n",
    "from sklearn import metrics"
   ]
  },
  {
   "cell_type": "code",
   "execution_count": 31,
   "id": "22813e7f",
   "metadata": {},
   "outputs": [],
   "source": [
    "scaler2 = MinMaxScaler()"
   ]
  },
  {
   "cell_type": "markdown",
   "id": "cf8085f1",
   "metadata": {},
   "source": [
    "We measure the accuracy, precision, recall and f1score inside the model_testing function \n",
    "so we recognize wich hyperparameters increase the function of our model"
   ]
  },
  {
   "cell_type": "code",
   "execution_count": 40,
   "id": "eba9ae4d",
   "metadata": {},
   "outputs": [],
   "source": [
    "def model_testing(hp_loss, hp_alpha,hp_itr, hp_tol):\n",
    "    for train_index, test_index in skf.split(X_new, y):\n",
    "        x_train, x_test = X_new[train_index], X_new[test_index]\n",
    "        y_train_2, y_test_2 = y[train_index], y[test_index]\n",
    "    \n",
    "        scaler2.fit(x_train)\n",
    "        x_train= scaler2.transform(x_train)\n",
    "        x_test= scaler2.transform(x_test)\n",
    "    \n",
    "        classifier2 = SGDClassifier(loss= hp_loss, alpha= hp_alpha, max_iter=hp_itr, tol=hp_tol)\n",
    "        classifier2.fit(x_train, y_train_2)\n",
    "    \n",
    "        predicted_this_fold = classifier2.predict(x_test)\n",
    "        precision = metrics.precision_score(y_test_2, predicted_this_fold, pos_label= 'Normal')\n",
    "        recall = metrics.recall_score(y_test_2, predicted_this_fold,pos_label= 'Normal' )\n",
    "        f1score = metrics.f1_score(y_test_2, predicted_this_fold, pos_label= 'Normal')\n",
    "        accuracy = metrics.accuracy_score(y_test_2, predicted_this_fold)\n",
    "\n",
    "        print(f\"Precision from this fold is = {precision}\")\n",
    "        print(f\"Recall from this fold is = {recall}\")\n",
    "        print(f\"F1 Score from this fold is = {f1score}\")\n",
    "        print('accuracy from this fold is:'+accuracy.__str__())\n",
    "    \n",
    "        predicted_y.extend(predicted_this_fold)\n",
    "        expected_y.extend(y_test_2)\n",
    "    precision = metrics.precision_score(expected_y, predicted_y, pos_label= 'Normal')\n",
    "    recall = metrics.recall_score(expected_y, predicted_y, pos_label= 'Normal')\n",
    "    f1score = metrics.f1_score(expected_y, predicted_y, pos_label= 'Normal')\n",
    "    accuracy = metrics.accuracy_score(expected_y, predicted_y)\n",
    "    print(f\"Precision from all fold is = {precision}\")\n",
    "    print(f\"Recall from all fold is = {recall}\")\n",
    "    print(f\"F1 Score from all fold is = {f1score}\")\n",
    "    print('accuracy from all fold is:'+accuracy.__str__())"
   ]
  },
  {
   "cell_type": "code",
   "execution_count": 41,
   "id": "4206926b",
   "metadata": {},
   "outputs": [
    {
     "name": "stdout",
     "output_type": "stream",
     "text": [
      "Precision from this fold is = 0.9604075974610278\n",
      "Recall from this fold is = 0.9991145069068461\n",
      "F1 Score from this fold is = 0.9793787587575175\n",
      "accuracy from this fold is:0.9630263684467962\n",
      "Precision from this fold is = 0.9598364247115525\n",
      "Recall from this fold is = 0.9988853987232749\n",
      "F1 Score from this fold is = 0.9789716725837284\n",
      "accuracy from this fold is:0.9623371426030504\n",
      "Precision from this fold is = 0.9597520962449873\n",
      "Recall from this fold is = 0.9992914441885771\n",
      "F1 Score from this fold is = 0.9791227591678857\n",
      "accuracy from this fold is:0.9625594735203877\n",
      "Precision from this fold is = 0.9600681762843924\n",
      "Recall from this fold is = 0.9992144142317732\n",
      "F1 Score from this fold is = 0.9792502266208044\n",
      "accuracy from this fold is:0.9628485037129263\n",
      "Precision from this fold is = 0.9595507803004522\n",
      "Recall from this fold is = 0.9992405832320778\n",
      "F1 Score from this fold is = 0.9789935765482006\n",
      "accuracy from this fold is:0.9623371426030504\n",
      "Precision from this fold is = 0.9607738167660299\n",
      "Recall from this fold is = 0.9994178099529185\n",
      "F1 Score from this fold is = 0.9797148918747907\n",
      "accuracy from this fold is:0.96364808679992\n",
      "Precision from this fold is = 0.9608181310272791\n",
      "Recall from this fold is = 0.9992673622514716\n",
      "F1 Score from this fold is = 0.9796656346749226\n",
      "accuracy from this fold is:0.9634924516975343\n",
      "Precision from this fold is = 0.9610164948955973\n",
      "Recall from this fold is = 0.9990628166160082\n",
      "F1 Score from this fold is = 0.9796704047290837\n",
      "accuracy from this fold is:0.9636036196278097\n",
      "Precision from this fold is = 0.9599077221952405\n",
      "Recall from this fold is = 0.9991658662352763\n",
      "F1 Score from this fold is = 0.9791434445517821\n",
      "accuracy from this fold is:0.9625586410832203\n",
      "Precision from this fold is = 0.9606527078621628\n",
      "Recall from this fold is = 0.9990895065631402\n",
      "F1 Score from this fold is = 0.9794941730721547\n",
      "accuracy from this fold is:0.9632256486648731\n",
      "Precision from all fold is = 0.9602782371826053\n",
      "Recall from all fold is = 0.9991750051878509\n",
      "F1 Score from all fold is = 0.9793405546722493\n",
      "accuracy from all fold is:0.9629637040742594\n"
     ]
    }
   ],
   "source": [
    "model_testing('hinge',0.001,1000, 0.01)"
   ]
  },
  {
   "cell_type": "code",
   "execution_count": 42,
   "id": "ae2e3efc",
   "metadata": {},
   "outputs": [
    {
     "name": "stdout",
     "output_type": "stream",
     "text": [
      "Precision from this fold is = 0.9523476667952179\n",
      "Recall from this fold is = 0.9996205029600769\n",
      "F1 Score from this fold is = 0.9754116572444269\n",
      "accuracy from this fold is:0.9557116812663969\n",
      "Precision from this fold is = 0.9513177247847997\n",
      "Recall from this fold is = 0.9994426993616374\n",
      "F1 Score from this fold is = 0.9747865940283388\n",
      "accuracy from this fold is:0.9546222597714438\n",
      "Precision from this fold is = 0.9524452589948876\n",
      "Recall from this fold is = 0.9994685831414328\n",
      "F1 Score from this fold is = 0.9753905044143977\n",
      "accuracy from this fold is:0.9556894481746632\n",
      "Precision from this fold is = 0.951393076830298\n",
      "Recall from this fold is = 0.9994678289957173\n",
      "F1 Score from this fold is = 0.974838103712492\n",
      "accuracy from this fold is:0.9547334252301125\n",
      "Precision from this fold is = 0.9515169040217837\n",
      "Recall from this fold is = 0.9995696638315107\n",
      "F1 Score from this fold is = 0.9749515450045061\n",
      "accuracy from this fold is:0.9548890568722487\n",
      "Precision from this fold is = 0.9534984789222077\n",
      "Recall from this fold is = 0.9996456234496026\n",
      "F1 Score from this fold is = 0.9760268894271168\n",
      "accuracy from this fold is:0.9568668430531161\n",
      "Precision from this fold is = 0.9528488176082455\n",
      "Recall from this fold is = 0.9996210494404163\n",
      "F1 Score from this fold is = 0.9756747093417499\n",
      "accuracy from this fold is:0.9561331347132979\n",
      "Precision from this fold is = 0.9526545788164852\n",
      "Recall from this fold is = 0.9994427558257345\n",
      "F1 Score from this fold is = 0.9754879541156256\n",
      "accuracy from this fold is:0.955910798852747\n",
      "Precision from this fold is = 0.9512435656900947\n",
      "Recall from this fold is = 0.999620848288762\n",
      "F1 Score from this fold is = 0.9748323802011437\n",
      "accuracy from this fold is:0.9545990172754963\n",
      "Precision from this fold is = 0.9519691677706853\n",
      "Recall from this fold is = 0.9995447532815701\n",
      "F1 Score from this fold is = 0.9751770424655168\n",
      "accuracy from this fold is:0.9552660248571492\n",
      "Precision from all fold is = 0.9561825434778661\n",
      "Recall from all fold is = 0.9993597432899578\n",
      "F1 Score from all fold is = 0.9772944800572665\n",
      "accuracy from all fold is:0.9592029348007337\n"
     ]
    }
   ],
   "source": [
    "model_testing('log',0.001,1000, 0.01)"
   ]
  },
  {
   "cell_type": "markdown",
   "id": "5180ce4c",
   "metadata": {},
   "source": [
    "Looks like hinge is doing better. \n",
    "Let's tune other hyperparameters"
   ]
  },
  {
   "cell_type": "code",
   "execution_count": 43,
   "id": "d1560797",
   "metadata": {},
   "outputs": [
    {
     "name": "stdout",
     "output_type": "stream",
     "text": [
      "Precision from this fold is = 0.9639630841349676\n",
      "Recall from this fold is = 0.9988868086828923\n",
      "F1 Score from this fold is = 0.9811142587346553\n",
      "accuracy from this fold is:0.9662057005647205\n",
      "Precision from this fold is = 0.9635114988879928\n",
      "Recall from this fold is = 0.9986827439456886\n",
      "F1 Score from this fold is = 0.980781908872663\n",
      "accuracy from this fold is:0.9656498732713771\n",
      "Precision from this fold is = 0.9631129543791168\n",
      "Recall from this fold is = 0.9990130829769466\n",
      "F1 Score from this fold is = 0.9807345945073098\n",
      "accuracy from this fold is:0.9655164747209747\n",
      "Precision from this fold is = 0.9633675464320626\n",
      "Recall from this fold is = 0.9989863409442234\n",
      "F1 Score from this fold is = 0.980853684328386\n",
      "accuracy from this fold is:0.9657832718217796\n",
      "Precision from this fold is = 0.9632640109353642\n",
      "Recall from this fold is = 0.998962130417173\n",
      "F1 Score from this fold is = 0.9807883487424197\n",
      "accuracy from this fold is:0.9656276401796434\n",
      "Precision from this fold is = 0.9641871259313546\n",
      "Recall from this fold is = 0.9990634334025211\n",
      "F1 Score from this fold is = 0.9813154983155357\n",
      "accuracy from this fold is:0.9665829201591924\n",
      "Precision from this fold is = 0.9647885605524511\n",
      "Recall from this fold is = 0.998863148321249\n",
      "F1 Score from this fold is = 0.9815302120053622\n",
      "accuracy from this fold is:0.9669164239500189\n",
      "Precision from this fold is = 0.964338127384796\n",
      "Recall from this fold is = 0.9986322188449848\n",
      "F1 Score from this fold is = 0.9811856054949977\n",
      "accuracy from this fold is:0.9663828178846966\n",
      "Precision from this fold is = 0.9635680842762387\n",
      "Recall from this fold is = 0.9987867145240382\n",
      "F1 Score from this fold is = 0.9808613627901204\n",
      "accuracy from this fold is:0.9657158103030438\n",
      "Precision from this fold is = 0.9643476349783888\n",
      "Recall from this fold is = 0.9987860087508535\n",
      "F1 Score from this fold is = 0.9812647533855137\n",
      "accuracy from this fold is:0.966471752228917\n",
      "Precision from all fold is = 0.9587222087774493\n",
      "Recall from all fold is = 0.9991952504593146\n",
      "F1 Score from all fold is = 0.9785404108850629\n",
      "accuracy from all fold is:0.9614970448187057\n"
     ]
    }
   ],
   "source": [
    "model_testing('hinge',0.0001,1000, 0.001)"
   ]
  },
  {
   "cell_type": "code",
   "execution_count": 44,
   "id": "cd25b077",
   "metadata": {},
   "outputs": [
    {
     "name": "stdout",
     "output_type": "stream",
     "text": [
      "Precision from this fold is = 0.9640336955194726\n",
      "Recall from this fold is = 0.9988868086828923\n",
      "F1 Score from this fold is = 0.9811508306308322\n",
      "accuracy from this fold is:0.9662723998399217\n",
      "Precision from this fold is = 0.9635114988879928\n",
      "Recall from this fold is = 0.9986827439456886\n",
      "F1 Score from this fold is = 0.980781908872663\n",
      "accuracy from this fold is:0.9656498732713771\n",
      "Precision from this fold is = 0.9632304501646944\n",
      "Recall from this fold is = 0.9990130829769466\n",
      "F1 Score from this fold is = 0.980795508186132\n",
      "accuracy from this fold is:0.9656276401796434\n",
      "Precision from this fold is = 0.9636501417815586\n",
      "Recall from this fold is = 0.9989863409442234\n",
      "F1 Score from this fold is = 0.9810001368686931\n",
      "accuracy from this fold is:0.9660500689225844\n",
      "Precision from this fold is = 0.9623009583262211\n",
      "Recall from this fold is = 0.998962130417173\n",
      "F1 Score from this fold is = 0.980288897445133\n",
      "accuracy from this fold is:0.9647160834185602\n",
      "Precision from this fold is = 0.9642106806078077\n",
      "Recall from this fold is = 0.9990634334025211\n",
      "F1 Score from this fold is = 0.9813276976628543\n",
      "accuracy from this fold is:0.9666051537452476\n",
      "Precision from this fold is = 0.9635659103648283\n",
      "Recall from this fold is = 0.998863148321249\n",
      "F1 Score from this fold is = 0.9808970923886078\n",
      "accuracy from this fold is:0.9657602774751539\n",
      "Precision from this fold is = 0.9648800783162017\n",
      "Recall from this fold is = 0.9986068895643364\n",
      "F1 Score from this fold is = 0.9814538212596466\n",
      "accuracy from this fold is:0.9668719567779087\n",
      "Precision from this fold is = 0.9635454767129968\n",
      "Recall from this fold is = 0.9988119913047874\n",
      "F1 Score from this fold is = 0.9808618378593059\n",
      "accuracy from this fold is:0.9657158103030438\n",
      "Precision from this fold is = 0.9643476349783888\n",
      "Recall from this fold is = 0.9987860087508535\n",
      "F1 Score from this fold is = 0.9812647533855137\n",
      "accuracy from this fold is:0.966471752228917\n",
      "Precision from all fold is = 0.9599682444930882\n",
      "Recall from all fold is = 0.999113004043993\n",
      "F1 Score from all fold is = 0.9791495449803687\n",
      "accuracy from all fold is:0.9626163081540771\n"
     ]
    }
   ],
   "source": [
    "model_testing('hinge',0.0001,10000, 0.001)"
   ]
  },
  {
   "cell_type": "code",
   "execution_count": null,
   "id": "4d20d672",
   "metadata": {},
   "outputs": [],
   "source": []
  }
 ],
 "metadata": {
  "celltoolbar": "Raw Cell Format",
  "kernelspec": {
   "display_name": "Python 3 (ipykernel)",
   "language": "python",
   "name": "python3"
  },
  "language_info": {
   "codemirror_mode": {
    "name": "ipython",
    "version": 3
   },
   "file_extension": ".py",
   "mimetype": "text/x-python",
   "name": "python",
   "nbconvert_exporter": "python",
   "pygments_lexer": "ipython3",
   "version": "3.9.12"
  }
 },
 "nbformat": 4,
 "nbformat_minor": 5
}
